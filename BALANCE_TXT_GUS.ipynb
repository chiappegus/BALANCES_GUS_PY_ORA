{
  "cells": [
    {
      "cell_type": "markdown",
      "metadata": {
        "id": "rYQgT2wknzB6"
      },
      "source": [
        "## Importando datos"
      ]
    },
    {
      "cell_type": "code",
      "execution_count": 2,
      "metadata": {},
      "outputs": [],
      "source": [
        "import pandas as pd\n",
        "import numpy as np\n",
        "from datetime import date\n",
        "\n"
      ]
    },
    {
      "cell_type": "code",
      "execution_count": 3,
      "metadata": {},
      "outputs": [],
      "source": [
        "df1 = pd.read_csv('balances.txt', sep=',')"
      ]
    },
    {
      "cell_type": "code",
      "execution_count": 4,
      "metadata": {},
      "outputs": [],
      "source": [
        "df1=df1.replace(\"NaN\",np.nan)\n",
        "df1=df1.fillna(0)\n",
        "df1.head()\n",
        "df1[\"S1\"]=+df1[\"S1-III\"]+df1[\"S1-IV\"]+df1[\"S1-V\"]+df1[\"S1-VII\"]\n",
        "df1[\"S2\"]=+df1[\"TS(S2)III\"]+df1[\"TS(S2)IV\"]+df1[\"TS(S2)V\"]+df1[\"TS(S2)VI\"]\n",
        "df1=df1.drop(columns={\"S1-III\",\"S1-IV\",\"S1-V\",\"S1-VII\",\"TS(S2)III\",\"TS(S2)IV\",\"TS(S2)V\",\"TS(S2)VI\",\"CoordX\",\"CoordY\"})\n",
        "\n"
      ]
    },
    {
      "cell_type": "code",
      "execution_count": 5,
      "metadata": {},
      "outputs": [
        {
          "name": "stderr",
          "output_type": "stream",
          "text": [
            "C:\\Users\\gchiappe\\AppData\\Local\\Temp\\ipykernel_11576\\4187335293.py:5: FutureWarning: ChainedAssignmentError: behaviour will change in pandas 3.0!\n",
            "You are setting values through chained assignment. Currently this works in certain cases, but when using Copy-on-Write (which will become the default behaviour in pandas 3.0) this will never work to update the original DataFrame or Series, because the intermediate object on which we are setting values will behave as a copy.\n",
            "A typical example is when you are setting values in a column of a DataFrame, like:\n",
            "\n",
            "df[\"col\"][row_indexer] = value\n",
            "\n",
            "Use `df.loc[row_indexer, \"col\"] = values` instead, to perform the assignment in a single step and ensure this keeps updating the original `df`.\n",
            "\n",
            "See the caveats in the documentation: https://pandas.pydata.org/pandas-docs/stable/user_guide/indexing.html#returning-a-view-versus-a-copy\n",
            "\n",
            "  df1[\"M1\"][df1[\"M1\"]==0]=df1[\"M1.1\"]\n",
            "C:\\Users\\gchiappe\\AppData\\Local\\Temp\\ipykernel_11576\\4187335293.py:5: SettingWithCopyWarning: \n",
            "A value is trying to be set on a copy of a slice from a DataFrame\n",
            "\n",
            "See the caveats in the documentation: https://pandas.pydata.org/pandas-docs/stable/user_guide/indexing.html#returning-a-view-versus-a-copy\n",
            "  df1[\"M1\"][df1[\"M1\"]==0]=df1[\"M1.1\"]\n",
            "C:\\Users\\gchiappe\\AppData\\Local\\Temp\\ipykernel_11576\\4187335293.py:6: FutureWarning: ChainedAssignmentError: behaviour will change in pandas 3.0!\n",
            "You are setting values through chained assignment. Currently this works in certain cases, but when using Copy-on-Write (which will become the default behaviour in pandas 3.0) this will never work to update the original DataFrame or Series, because the intermediate object on which we are setting values will behave as a copy.\n",
            "A typical example is when you are setting values in a column of a DataFrame, like:\n",
            "\n",
            "df[\"col\"][row_indexer] = value\n",
            "\n",
            "Use `df.loc[row_indexer, \"col\"] = values` instead, to perform the assignment in a single step and ensure this keeps updating the original `df`.\n",
            "\n",
            "See the caveats in the documentation: https://pandas.pydata.org/pandas-docs/stable/user_guide/indexing.html#returning-a-view-versus-a-copy\n",
            "\n",
            "  df1[\"M2\"][df1[\"M2\"]==0]=df1[\"M2.1\"]\n",
            "C:\\Users\\gchiappe\\AppData\\Local\\Temp\\ipykernel_11576\\4187335293.py:6: SettingWithCopyWarning: \n",
            "A value is trying to be set on a copy of a slice from a DataFrame\n",
            "\n",
            "See the caveats in the documentation: https://pandas.pydata.org/pandas-docs/stable/user_guide/indexing.html#returning-a-view-versus-a-copy\n",
            "  df1[\"M2\"][df1[\"M2\"]==0]=df1[\"M2.1\"]\n"
          ]
        }
      ],
      "source": [
        "df1[\"M1\"]=df1[\"M1.2\"]\n",
        "df1[\"M2\"]=df1[\"M2.2\"]\n",
        "\n",
        "\n",
        "df1[\"M1\"][df1[\"M1\"]==0]=df1[\"M1.1\"]\n",
        "df1[\"M2\"][df1[\"M2\"]==0]=df1[\"M2.1\"]\n",
        "\n",
        "\n",
        "\n",
        "\n",
        "nueva_fila = []\n",
        "\n",
        "for i in range(len(df1.columns)):\n",
        "    if i == 0:  # Si es la primera columna\n",
        "        #nueva_fila.append(np.nan)\n",
        "        nueva_fila.append(\"NA\")\n",
        "        \n",
        "    else:  # Las columnas restantes\n",
        "        nueva_fila.append(-2000)\n",
        "        \n",
        "        \n",
        "\n",
        "df1.loc[len(df1)]=nueva_fila\n",
        "\n",
        "df1=df1.drop(columns={\"M1.1\",\"M1.2\",\"M2.1\",\"M2.2\"})\n",
        "# df1"
      ]
    },
    {
      "cell_type": "code",
      "execution_count": 6,
      "metadata": {},
      "outputs": [
        {
          "data": {
            "text/html": [
              "<div>\n",
              "<style scoped>\n",
              "    .dataframe tbody tr th:only-of-type {\n",
              "        vertical-align: middle;\n",
              "    }\n",
              "\n",
              "    .dataframe tbody tr th {\n",
              "        vertical-align: top;\n",
              "    }\n",
              "\n",
              "    .dataframe thead th {\n",
              "        text-align: right;\n",
              "    }\n",
              "</style>\n",
              "<table border=\"1\" class=\"dataframe\">\n",
              "  <thead>\n",
              "    <tr style=\"text-align: right;\">\n",
              "      <th></th>\n",
              "      <th>centroide</th>\n",
              "      <th>TS(TL)</th>\n",
              "      <th>TS(TC)</th>\n",
              "      <th>G1.1</th>\n",
              "      <th>G1.2</th>\n",
              "      <th>A1.1</th>\n",
              "      <th>A1.2</th>\n",
              "      <th>TL</th>\n",
              "      <th>P</th>\n",
              "      <th>CN</th>\n",
              "      <th>S1</th>\n",
              "      <th>S2</th>\n",
              "      <th>M1</th>\n",
              "      <th>M2</th>\n",
              "    </tr>\n",
              "  </thead>\n",
              "  <tbody>\n",
              "    <tr>\n",
              "      <th>0</th>\n",
              "      <td>VMy_1</td>\n",
              "      <td>0.0</td>\n",
              "      <td>0.0</td>\n",
              "      <td>0.0</td>\n",
              "      <td>0.0</td>\n",
              "      <td>0.0</td>\n",
              "      <td>0.0</td>\n",
              "      <td>0.0</td>\n",
              "      <td>0.0</td>\n",
              "      <td>-11.0</td>\n",
              "      <td>0.0</td>\n",
              "      <td>0.0</td>\n",
              "      <td>0.0</td>\n",
              "      <td>0.0</td>\n",
              "    </tr>\n",
              "    <tr>\n",
              "      <th>1</th>\n",
              "      <td>NJ_1</td>\n",
              "      <td>0.0</td>\n",
              "      <td>0.0</td>\n",
              "      <td>0.0</td>\n",
              "      <td>0.0</td>\n",
              "      <td>0.0</td>\n",
              "      <td>0.0</td>\n",
              "      <td>0.0</td>\n",
              "      <td>-8.0</td>\n",
              "      <td>0.0</td>\n",
              "      <td>0.0</td>\n",
              "      <td>0.0</td>\n",
              "      <td>0.0</td>\n",
              "      <td>0.0</td>\n",
              "    </tr>\n",
              "    <tr>\n",
              "      <th>2</th>\n",
              "      <td>NJ_2</td>\n",
              "      <td>0.0</td>\n",
              "      <td>0.0</td>\n",
              "      <td>0.0</td>\n",
              "      <td>0.0</td>\n",
              "      <td>0.0</td>\n",
              "      <td>0.0</td>\n",
              "      <td>0.0</td>\n",
              "      <td>-8.0</td>\n",
              "      <td>0.0</td>\n",
              "      <td>0.0</td>\n",
              "      <td>0.0</td>\n",
              "      <td>0.0</td>\n",
              "      <td>0.0</td>\n",
              "    </tr>\n",
              "    <tr>\n",
              "      <th>3</th>\n",
              "      <td>NJ_3</td>\n",
              "      <td>0.0</td>\n",
              "      <td>0.0</td>\n",
              "      <td>0.0</td>\n",
              "      <td>0.0</td>\n",
              "      <td>0.0</td>\n",
              "      <td>0.0</td>\n",
              "      <td>0.0</td>\n",
              "      <td>-10.0</td>\n",
              "      <td>0.0</td>\n",
              "      <td>0.0</td>\n",
              "      <td>0.0</td>\n",
              "      <td>0.0</td>\n",
              "      <td>0.0</td>\n",
              "    </tr>\n",
              "    <tr>\n",
              "      <th>4</th>\n",
              "      <td>AP_1</td>\n",
              "      <td>0.0</td>\n",
              "      <td>0.0</td>\n",
              "      <td>0.0</td>\n",
              "      <td>0.0</td>\n",
              "      <td>0.0</td>\n",
              "      <td>0.0</td>\n",
              "      <td>0.0</td>\n",
              "      <td>0.0</td>\n",
              "      <td>18.0</td>\n",
              "      <td>0.0</td>\n",
              "      <td>0.0</td>\n",
              "      <td>0.0</td>\n",
              "      <td>0.0</td>\n",
              "    </tr>\n",
              "  </tbody>\n",
              "</table>\n",
              "</div>"
            ],
            "text/plain": [
              "  centroide  TS(TL)  TS(TC)  G1.1  G1.2  A1.1  A1.2   TL     P    CN   S1  \\\n",
              "0     VMy_1     0.0     0.0   0.0   0.0   0.0   0.0  0.0   0.0 -11.0  0.0   \n",
              "1      NJ_1     0.0     0.0   0.0   0.0   0.0   0.0  0.0  -8.0   0.0  0.0   \n",
              "2      NJ_2     0.0     0.0   0.0   0.0   0.0   0.0  0.0  -8.0   0.0  0.0   \n",
              "3      NJ_3     0.0     0.0   0.0   0.0   0.0   0.0  0.0 -10.0   0.0  0.0   \n",
              "4      AP_1     0.0     0.0   0.0   0.0   0.0   0.0  0.0   0.0  18.0  0.0   \n",
              "\n",
              "    S2   M1   M2  \n",
              "0  0.0  0.0  0.0  \n",
              "1  0.0  0.0  0.0  \n",
              "2  0.0  0.0  0.0  \n",
              "3  0.0  0.0  0.0  \n",
              "4  0.0  0.0  0.0  "
            ]
          },
          "execution_count": 6,
          "metadata": {},
          "output_type": "execute_result"
        }
      ],
      "source": [
        "df1.head()"
      ]
    },
    {
      "cell_type": "code",
      "execution_count": 7,
      "metadata": {},
      "outputs": [
        {
          "name": "stdout",
          "output_type": "stream",
          "text": [
            "  centroide  TS(TL)   TC   G1   G2   A1   A2   TL     P    CN   S1   S2   M1  \\\n",
            "0     VMy_1     0.0  0.0  0.0  0.0  0.0  0.0  0.0   0.0 -11.0  0.0  0.0  0.0   \n",
            "1      NJ_1     0.0  0.0  0.0  0.0  0.0  0.0  0.0  -8.0   0.0  0.0  0.0  0.0   \n",
            "2      NJ_2     0.0  0.0  0.0  0.0  0.0  0.0  0.0  -8.0   0.0  0.0  0.0  0.0   \n",
            "3      NJ_3     0.0  0.0  0.0  0.0  0.0  0.0  0.0 -10.0   0.0  0.0  0.0  0.0   \n",
            "4      AP_1     0.0  0.0  0.0  0.0  0.0  0.0  0.0   0.0  18.0  0.0  0.0  0.0   \n",
            "\n",
            "    M2  \n",
            "0  0.0  \n",
            "1  0.0  \n",
            "2  0.0  \n",
            "3  0.0  \n",
            "4  0.0  \n"
          ]
        }
      ],
      "source": [
        "# Renaming columns\n",
        "df1.rename(columns={'G1.1': 'G1', 'G1.2': 'G2','A1.1':'A1','A1.2':'A2','TS(TC)':'TC'}, inplace=True)\n",
        "print(df1.head())"
      ]
    },
    {
      "cell_type": "code",
      "execution_count": 8,
      "metadata": {},
      "outputs": [
        {
          "name": "stdout",
          "output_type": "stream",
          "text": [
            "  centroide  TS(TL)   TC   G1   G2   A1   A2   TL     P   S1   S2   M1   M2\n",
            "0     VMy_1     0.0  0.0  0.0  0.0  0.0  0.0  0.0 -11.0  0.0  0.0  0.0  0.0\n",
            "1      NJ_1     0.0  0.0  0.0  0.0  0.0  0.0  0.0  -8.0  0.0  0.0  0.0  0.0\n",
            "2      NJ_2     0.0  0.0  0.0  0.0  0.0  0.0  0.0  -8.0  0.0  0.0  0.0  0.0\n",
            "3      NJ_3     0.0  0.0  0.0  0.0  0.0  0.0  0.0 -10.0  0.0  0.0  0.0  0.0\n",
            "4      AP_1     0.0  0.0  0.0  0.0  0.0  0.0  0.0  18.0  0.0  0.0  0.0  0.0\n"
          ]
        },
        {
          "name": "stderr",
          "output_type": "stream",
          "text": [
            "C:\\Users\\gchiappe\\AppData\\Local\\Temp\\ipykernel_11576\\733053496.py:1: FutureWarning: ChainedAssignmentError: behaviour will change in pandas 3.0!\n",
            "You are setting values through chained assignment. Currently this works in certain cases, but when using Copy-on-Write (which will become the default behaviour in pandas 3.0) this will never work to update the original DataFrame or Series, because the intermediate object on which we are setting values will behave as a copy.\n",
            "A typical example is when you are setting values in a column of a DataFrame, like:\n",
            "\n",
            "df[\"col\"][row_indexer] = value\n",
            "\n",
            "Use `df.loc[row_indexer, \"col\"] = values` instead, to perform the assignment in a single step and ensure this keeps updating the original `df`.\n",
            "\n",
            "See the caveats in the documentation: https://pandas.pydata.org/pandas-docs/stable/user_guide/indexing.html#returning-a-view-versus-a-copy\n",
            "\n",
            "  df1[\"P\"][df1[\"P\"]==0]=df1[\"CN\"]\n",
            "C:\\Users\\gchiappe\\AppData\\Local\\Temp\\ipykernel_11576\\733053496.py:1: SettingWithCopyWarning: \n",
            "A value is trying to be set on a copy of a slice from a DataFrame\n",
            "\n",
            "See the caveats in the documentation: https://pandas.pydata.org/pandas-docs/stable/user_guide/indexing.html#returning-a-view-versus-a-copy\n",
            "  df1[\"P\"][df1[\"P\"]==0]=df1[\"CN\"]\n"
          ]
        }
      ],
      "source": [
        "df1[\"P\"][df1[\"P\"]==0]=df1[\"CN\"]\n",
        "df1=df1.drop(columns={\"CN\"})\n",
        "print(df1.head())"
      ]
    },
    {
      "cell_type": "code",
      "execution_count": 9,
      "metadata": {},
      "outputs": [
        {
          "name": "stdout",
          "output_type": "stream",
          "text": [
            "  centroide   TC   G1   G2   A1   A2   TL     P   S1   S2   M1   M2\n",
            "0     VMy_1  0.0  0.0  0.0  0.0  0.0  0.0 -11.0  0.0  0.0  0.0  0.0\n",
            "1      NJ_1  0.0  0.0  0.0  0.0  0.0  0.0  -8.0  0.0  0.0  0.0  0.0\n",
            "2      NJ_2  0.0  0.0  0.0  0.0  0.0  0.0  -8.0  0.0  0.0  0.0  0.0\n",
            "3      NJ_3  0.0  0.0  0.0  0.0  0.0  0.0 -10.0  0.0  0.0  0.0  0.0\n",
            "4      AP_1  0.0  0.0  0.0  0.0  0.0  0.0  18.0  0.0  0.0  0.0  0.0\n"
          ]
        },
        {
          "name": "stderr",
          "output_type": "stream",
          "text": [
            "C:\\Users\\gchiappe\\AppData\\Local\\Temp\\ipykernel_11576\\362471490.py:1: FutureWarning: ChainedAssignmentError: behaviour will change in pandas 3.0!\n",
            "You are setting values through chained assignment. Currently this works in certain cases, but when using Copy-on-Write (which will become the default behaviour in pandas 3.0) this will never work to update the original DataFrame or Series, because the intermediate object on which we are setting values will behave as a copy.\n",
            "A typical example is when you are setting values in a column of a DataFrame, like:\n",
            "\n",
            "df[\"col\"][row_indexer] = value\n",
            "\n",
            "Use `df.loc[row_indexer, \"col\"] = values` instead, to perform the assignment in a single step and ensure this keeps updating the original `df`.\n",
            "\n",
            "See the caveats in the documentation: https://pandas.pydata.org/pandas-docs/stable/user_guide/indexing.html#returning-a-view-versus-a-copy\n",
            "\n",
            "  df1[\"TL\"][df1[\"TL\"]==0]=df1[\"TS(TL)\"]\n",
            "C:\\Users\\gchiappe\\AppData\\Local\\Temp\\ipykernel_11576\\362471490.py:1: SettingWithCopyWarning: \n",
            "A value is trying to be set on a copy of a slice from a DataFrame\n",
            "\n",
            "See the caveats in the documentation: https://pandas.pydata.org/pandas-docs/stable/user_guide/indexing.html#returning-a-view-versus-a-copy\n",
            "  df1[\"TL\"][df1[\"TL\"]==0]=df1[\"TS(TL)\"]\n"
          ]
        }
      ],
      "source": [
        "df1[\"TL\"][df1[\"TL\"]==0]=df1[\"TS(TL)\"]\n",
        "df1=df1.drop(columns={\"TS(TL)\"})\n",
        "print(df1.head())"
      ]
    },
    {
      "cell_type": "code",
      "execution_count": 10,
      "metadata": {},
      "outputs": [
        {
          "name": "stdout",
          "output_type": "stream",
          "text": [
            "  centroide      TC      G1      G2      A1      A2      TL     P      S1  \\\n",
            "0     VMy_1 -1000.0 -1000.0 -1000.0 -1000.0 -1000.0 -1000.0 -11.0 -1000.0   \n",
            "1      NJ_1 -1000.0 -1000.0 -1000.0 -1000.0 -1000.0 -1000.0  -8.0 -1000.0   \n",
            "2      NJ_2 -1000.0 -1000.0 -1000.0 -1000.0 -1000.0 -1000.0  -8.0 -1000.0   \n",
            "3      NJ_3 -1000.0 -1000.0 -1000.0 -1000.0 -1000.0 -1000.0 -10.0 -1000.0   \n",
            "4      AP_1 -1000.0 -1000.0 -1000.0 -1000.0 -1000.0 -1000.0  18.0 -1000.0   \n",
            "\n",
            "       S2      M1      M2  \n",
            "0 -1000.0 -1000.0 -1000.0  \n",
            "1 -1000.0 -1000.0 -1000.0  \n",
            "2 -1000.0 -1000.0 -1000.0  \n",
            "3 -1000.0 -1000.0 -1000.0  \n",
            "4 -1000.0 -1000.0 -1000.0  \n"
          ]
        }
      ],
      "source": [
        "# df1=df1.fillna(-1000)\n",
        "df1=df1.replace(0,-1000)\n",
        "print(df1.head())"
      ]
    },
    {
      "cell_type": "code",
      "execution_count": 12,
      "metadata": {},
      "outputs": [],
      "source": [
        "\n",
        "\n",
        "todays_date = date.today()\n",
        "\n",
        "# print(\"Today's date =\", todays_date)\n",
        "\n",
        "\n",
        "df1.to_excel(f\"balances_GUS_{todays_date}.xlsx\",index=False)\n",
        "\n"
      ]
    }
  ],
  "metadata": {
    "colab": {
      "collapsed_sections": [],
      "name": "Primera regresión lineal.ipynb",
      "provenance": []
    },
    "kernelspec": {
      "display_name": "env",
      "language": "python",
      "name": "python3"
    },
    "language_info": {
      "codemirror_mode": {
        "name": "ipython",
        "version": 3
      },
      "file_extension": ".py",
      "mimetype": "text/x-python",
      "name": "python",
      "nbconvert_exporter": "python",
      "pygments_lexer": "ipython3",
      "version": "3.12.2"
    }
  },
  "nbformat": 4,
  "nbformat_minor": 0
}
